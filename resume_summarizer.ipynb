{
  "cells": [
    {
      "cell_type": "code",
      "execution_count": null,
      "metadata": {
        "id": "ttr5N2WrvQsu"
      },
      "outputs": [],
      "source": [
        "import numpy as np\n",
        "import pandas as pd\n",
        "from tqdm import tqdm\n",
        "import json"
      ]
    },
    {
      "cell_type": "code",
      "execution_count": null,
      "metadata": {
        "id": "H3tF5-TtvU9K"
      },
      "outputs": [],
      "source": [
        "df1 = pd.read_json(\"/content/drive/MyDrive/Colab_Notebooks/NLP/NLP_Projects/Resume_Summarizer/datasets/dataset2.json\")\n",
        "df2 = pd.read_json(\"/content/drive/MyDrive/Colab_Notebooks/NLP/NLP_Projects/Resume_Summarizer/datasets/dataset3.json\")"
      ]
    },
    {
      "cell_type": "code",
      "execution_count": null,
      "metadata": {
        "colab": {
          "base_uri": "https://localhost:8080/",
          "height": 206
        },
        "id": "8hmQsEjxvWhw",
        "outputId": "6094ee52-5faf-47fe-a70c-cca7efb41bac"
      },
      "outputs": [
        {
          "data": {
            "text/html": [
              "\n",
              "  <div id=\"df-ca3994f7-c537-41c1-8d74-155c2a0f1931\">\n",
              "    <div class=\"colab-df-container\">\n",
              "      <div>\n",
              "<style scoped>\n",
              "    .dataframe tbody tr th:only-of-type {\n",
              "        vertical-align: middle;\n",
              "    }\n",
              "\n",
              "    .dataframe tbody tr th {\n",
              "        vertical-align: top;\n",
              "    }\n",
              "\n",
              "    .dataframe thead th {\n",
              "        text-align: right;\n",
              "    }\n",
              "</style>\n",
              "<table border=\"1\" class=\"dataframe\">\n",
              "  <thead>\n",
              "    <tr style=\"text-align: right;\">\n",
              "      <th></th>\n",
              "      <th>0</th>\n",
              "      <th>1</th>\n",
              "    </tr>\n",
              "  </thead>\n",
              "  <tbody>\n",
              "    <tr>\n",
              "      <th>0</th>\n",
              "      <td>Govardhana K Senior Software Engineer  Bengalu...</td>\n",
              "      <td>{'entities': [[1749, 1755, 'Companies worked a...</td>\n",
              "    </tr>\n",
              "    <tr>\n",
              "      <th>1</th>\n",
              "      <td>Harini Komaravelli Test Analyst at Oracle, Hyd...</td>\n",
              "      <td>{'entities': [[2275, 2281, 'Companies worked a...</td>\n",
              "    </tr>\n",
              "    <tr>\n",
              "      <th>2</th>\n",
              "      <td>Hartej Kathuria Data Analyst Intern - Oracle R...</td>\n",
              "      <td>{'entities': [[2247, 2573, 'Skills'], [1435, 1...</td>\n",
              "    </tr>\n",
              "    <tr>\n",
              "      <th>3</th>\n",
              "      <td>Ijas Nizamuddin Associate Consultant - State S...</td>\n",
              "      <td>{'entities': [[4652, 4850, 'Skills'], [4608, 4...</td>\n",
              "    </tr>\n",
              "    <tr>\n",
              "      <th>4</th>\n",
              "      <td>Imgeeyaul Ansari java developer  Pune, Maharas...</td>\n",
              "      <td>{'entities': [[1894, 2173, 'Skills'], [1726, 1...</td>\n",
              "    </tr>\n",
              "  </tbody>\n",
              "</table>\n",
              "</div>\n",
              "      <button class=\"colab-df-convert\" onclick=\"convertToInteractive('df-ca3994f7-c537-41c1-8d74-155c2a0f1931')\"\n",
              "              title=\"Convert this dataframe to an interactive table.\"\n",
              "              style=\"display:none;\">\n",
              "        \n",
              "  <svg xmlns=\"http://www.w3.org/2000/svg\" height=\"24px\"viewBox=\"0 0 24 24\"\n",
              "       width=\"24px\">\n",
              "    <path d=\"M0 0h24v24H0V0z\" fill=\"none\"/>\n",
              "    <path d=\"M18.56 5.44l.94 2.06.94-2.06 2.06-.94-2.06-.94-.94-2.06-.94 2.06-2.06.94zm-11 1L8.5 8.5l.94-2.06 2.06-.94-2.06-.94L8.5 2.5l-.94 2.06-2.06.94zm10 10l.94 2.06.94-2.06 2.06-.94-2.06-.94-.94-2.06-.94 2.06-2.06.94z\"/><path d=\"M17.41 7.96l-1.37-1.37c-.4-.4-.92-.59-1.43-.59-.52 0-1.04.2-1.43.59L10.3 9.45l-7.72 7.72c-.78.78-.78 2.05 0 2.83L4 21.41c.39.39.9.59 1.41.59.51 0 1.02-.2 1.41-.59l7.78-7.78 2.81-2.81c.8-.78.8-2.07 0-2.86zM5.41 20L4 18.59l7.72-7.72 1.47 1.35L5.41 20z\"/>\n",
              "  </svg>\n",
              "      </button>\n",
              "      \n",
              "  <style>\n",
              "    .colab-df-container {\n",
              "      display:flex;\n",
              "      flex-wrap:wrap;\n",
              "      gap: 12px;\n",
              "    }\n",
              "\n",
              "    .colab-df-convert {\n",
              "      background-color: #E8F0FE;\n",
              "      border: none;\n",
              "      border-radius: 50%;\n",
              "      cursor: pointer;\n",
              "      display: none;\n",
              "      fill: #1967D2;\n",
              "      height: 32px;\n",
              "      padding: 0 0 0 0;\n",
              "      width: 32px;\n",
              "    }\n",
              "\n",
              "    .colab-df-convert:hover {\n",
              "      background-color: #E2EBFA;\n",
              "      box-shadow: 0px 1px 2px rgba(60, 64, 67, 0.3), 0px 1px 3px 1px rgba(60, 64, 67, 0.15);\n",
              "      fill: #174EA6;\n",
              "    }\n",
              "\n",
              "    [theme=dark] .colab-df-convert {\n",
              "      background-color: #3B4455;\n",
              "      fill: #D2E3FC;\n",
              "    }\n",
              "\n",
              "    [theme=dark] .colab-df-convert:hover {\n",
              "      background-color: #434B5C;\n",
              "      box-shadow: 0px 1px 3px 1px rgba(0, 0, 0, 0.15);\n",
              "      filter: drop-shadow(0px 1px 2px rgba(0, 0, 0, 0.3));\n",
              "      fill: #FFFFFF;\n",
              "    }\n",
              "  </style>\n",
              "\n",
              "      <script>\n",
              "        const buttonEl =\n",
              "          document.querySelector('#df-ca3994f7-c537-41c1-8d74-155c2a0f1931 button.colab-df-convert');\n",
              "        buttonEl.style.display =\n",
              "          google.colab.kernel.accessAllowed ? 'block' : 'none';\n",
              "\n",
              "        async function convertToInteractive(key) {\n",
              "          const element = document.querySelector('#df-ca3994f7-c537-41c1-8d74-155c2a0f1931');\n",
              "          const dataTable =\n",
              "            await google.colab.kernel.invokeFunction('convertToInteractive',\n",
              "                                                     [key], {});\n",
              "          if (!dataTable) return;\n",
              "\n",
              "          const docLinkHtml = 'Like what you see? Visit the ' +\n",
              "            '<a target=\"_blank\" href=https://colab.research.google.com/notebooks/data_table.ipynb>data table notebook</a>'\n",
              "            + ' to learn more about interactive tables.';\n",
              "          element.innerHTML = '';\n",
              "          dataTable['output_type'] = 'display_data';\n",
              "          await google.colab.output.renderOutput(dataTable, element);\n",
              "          const docLink = document.createElement('div');\n",
              "          docLink.innerHTML = docLinkHtml;\n",
              "          element.appendChild(docLink);\n",
              "        }\n",
              "      </script>\n",
              "    </div>\n",
              "  </div>\n",
              "  "
            ],
            "text/plain": [
              "                                                   0  \\\n",
              "0  Govardhana K Senior Software Engineer  Bengalu...   \n",
              "1  Harini Komaravelli Test Analyst at Oracle, Hyd...   \n",
              "2  Hartej Kathuria Data Analyst Intern - Oracle R...   \n",
              "3  Ijas Nizamuddin Associate Consultant - State S...   \n",
              "4  Imgeeyaul Ansari java developer  Pune, Maharas...   \n",
              "\n",
              "                                                   1  \n",
              "0  {'entities': [[1749, 1755, 'Companies worked a...  \n",
              "1  {'entities': [[2275, 2281, 'Companies worked a...  \n",
              "2  {'entities': [[2247, 2573, 'Skills'], [1435, 1...  \n",
              "3  {'entities': [[4652, 4850, 'Skills'], [4608, 4...  \n",
              "4  {'entities': [[1894, 2173, 'Skills'], [1726, 1...  "
            ]
          },
          "execution_count": 3,
          "metadata": {},
          "output_type": "execute_result"
        }
      ],
      "source": [
        "df1.head()"
      ]
    },
    {
      "cell_type": "code",
      "execution_count": null,
      "metadata": {
        "colab": {
          "base_uri": "https://localhost:8080/",
          "height": 206
        },
        "id": "jW9UBKcRvblI",
        "outputId": "55b3ae6f-67d0-45c1-d818-2db8c4e6bc07"
      },
      "outputs": [
        {
          "data": {
            "text/html": [
              "\n",
              "  <div id=\"df-6b1175ce-1536-426d-a633-8457fdb50fad\">\n",
              "    <div class=\"colab-df-container\">\n",
              "      <div>\n",
              "<style scoped>\n",
              "    .dataframe tbody tr th:only-of-type {\n",
              "        vertical-align: middle;\n",
              "    }\n",
              "\n",
              "    .dataframe tbody tr th {\n",
              "        vertical-align: top;\n",
              "    }\n",
              "\n",
              "    .dataframe thead th {\n",
              "        text-align: right;\n",
              "    }\n",
              "</style>\n",
              "<table border=\"1\" class=\"dataframe\">\n",
              "  <thead>\n",
              "    <tr style=\"text-align: right;\">\n",
              "      <th></th>\n",
              "      <th>0</th>\n",
              "      <th>1</th>\n",
              "    </tr>\n",
              "  </thead>\n",
              "  <tbody>\n",
              "    <tr>\n",
              "      <th>0</th>\n",
              "      <td>\\nContact\\nwww.linkedin.com/in/omjagri\\n(Li...</td>\n",
              "      <td>{'entities': [[12, 39, 'LINKEDIN LINK'], [62, ...</td>\n",
              "    </tr>\n",
              "    <tr>\n",
              "      <th>1</th>\n",
              "      <td>Contact\\nwww.linkedin.com/in/saurab-shrestha-5...</td>\n",
              "      <td>{'entities': [[8, 53, 'LINKEDIN LINK'], [76, 8...</td>\n",
              "    </tr>\n",
              "    <tr>\n",
              "      <th>2</th>\n",
              "      <td>\\nContato\\nwww.linkedin.com/in/emanuel-\\nav...</td>\n",
              "      <td>{'entities': [[12, 58, 'LINKEDIN LINK'], [95, ...</td>\n",
              "    </tr>\n",
              "    <tr>\n",
              "      <th>3</th>\n",
              "      <td>\\nContact\\nwww.linkedin.com/in/er-sumit-\\ns...</td>\n",
              "      <td>{'entities': [[12, 57, 'LINKEDIN LINK'], [116,...</td>\n",
              "    </tr>\n",
              "    <tr>\n",
              "      <th>4</th>\n",
              "      <td>\\nContact\\nwww.linkedin.com/in/rahul-\\nchau...</td>\n",
              "      <td>{'entities': [[12, 58, 'LINKEDIN LINK'], [71, ...</td>\n",
              "    </tr>\n",
              "  </tbody>\n",
              "</table>\n",
              "</div>\n",
              "      <button class=\"colab-df-convert\" onclick=\"convertToInteractive('df-6b1175ce-1536-426d-a633-8457fdb50fad')\"\n",
              "              title=\"Convert this dataframe to an interactive table.\"\n",
              "              style=\"display:none;\">\n",
              "        \n",
              "  <svg xmlns=\"http://www.w3.org/2000/svg\" height=\"24px\"viewBox=\"0 0 24 24\"\n",
              "       width=\"24px\">\n",
              "    <path d=\"M0 0h24v24H0V0z\" fill=\"none\"/>\n",
              "    <path d=\"M18.56 5.44l.94 2.06.94-2.06 2.06-.94-2.06-.94-.94-2.06-.94 2.06-2.06.94zm-11 1L8.5 8.5l.94-2.06 2.06-.94-2.06-.94L8.5 2.5l-.94 2.06-2.06.94zm10 10l.94 2.06.94-2.06 2.06-.94-2.06-.94-.94-2.06-.94 2.06-2.06.94z\"/><path d=\"M17.41 7.96l-1.37-1.37c-.4-.4-.92-.59-1.43-.59-.52 0-1.04.2-1.43.59L10.3 9.45l-7.72 7.72c-.78.78-.78 2.05 0 2.83L4 21.41c.39.39.9.59 1.41.59.51 0 1.02-.2 1.41-.59l7.78-7.78 2.81-2.81c.8-.78.8-2.07 0-2.86zM5.41 20L4 18.59l7.72-7.72 1.47 1.35L5.41 20z\"/>\n",
              "  </svg>\n",
              "      </button>\n",
              "      \n",
              "  <style>\n",
              "    .colab-df-container {\n",
              "      display:flex;\n",
              "      flex-wrap:wrap;\n",
              "      gap: 12px;\n",
              "    }\n",
              "\n",
              "    .colab-df-convert {\n",
              "      background-color: #E8F0FE;\n",
              "      border: none;\n",
              "      border-radius: 50%;\n",
              "      cursor: pointer;\n",
              "      display: none;\n",
              "      fill: #1967D2;\n",
              "      height: 32px;\n",
              "      padding: 0 0 0 0;\n",
              "      width: 32px;\n",
              "    }\n",
              "\n",
              "    .colab-df-convert:hover {\n",
              "      background-color: #E2EBFA;\n",
              "      box-shadow: 0px 1px 2px rgba(60, 64, 67, 0.3), 0px 1px 3px 1px rgba(60, 64, 67, 0.15);\n",
              "      fill: #174EA6;\n",
              "    }\n",
              "\n",
              "    [theme=dark] .colab-df-convert {\n",
              "      background-color: #3B4455;\n",
              "      fill: #D2E3FC;\n",
              "    }\n",
              "\n",
              "    [theme=dark] .colab-df-convert:hover {\n",
              "      background-color: #434B5C;\n",
              "      box-shadow: 0px 1px 3px 1px rgba(0, 0, 0, 0.15);\n",
              "      filter: drop-shadow(0px 1px 2px rgba(0, 0, 0, 0.3));\n",
              "      fill: #FFFFFF;\n",
              "    }\n",
              "  </style>\n",
              "\n",
              "      <script>\n",
              "        const buttonEl =\n",
              "          document.querySelector('#df-6b1175ce-1536-426d-a633-8457fdb50fad button.colab-df-convert');\n",
              "        buttonEl.style.display =\n",
              "          google.colab.kernel.accessAllowed ? 'block' : 'none';\n",
              "\n",
              "        async function convertToInteractive(key) {\n",
              "          const element = document.querySelector('#df-6b1175ce-1536-426d-a633-8457fdb50fad');\n",
              "          const dataTable =\n",
              "            await google.colab.kernel.invokeFunction('convertToInteractive',\n",
              "                                                     [key], {});\n",
              "          if (!dataTable) return;\n",
              "\n",
              "          const docLinkHtml = 'Like what you see? Visit the ' +\n",
              "            '<a target=\"_blank\" href=https://colab.research.google.com/notebooks/data_table.ipynb>data table notebook</a>'\n",
              "            + ' to learn more about interactive tables.';\n",
              "          element.innerHTML = '';\n",
              "          dataTable['output_type'] = 'display_data';\n",
              "          await google.colab.output.renderOutput(dataTable, element);\n",
              "          const docLink = document.createElement('div');\n",
              "          docLink.innerHTML = docLinkHtml;\n",
              "          element.appendChild(docLink);\n",
              "        }\n",
              "      </script>\n",
              "    </div>\n",
              "  </div>\n",
              "  "
            ],
            "text/plain": [
              "                                                   0  \\\n",
              "0     \\nContact\\nwww.linkedin.com/in/omjagri\\n(Li...   \n",
              "1  Contact\\nwww.linkedin.com/in/saurab-shrestha-5...   \n",
              "2     \\nContato\\nwww.linkedin.com/in/emanuel-\\nav...   \n",
              "3     \\nContact\\nwww.linkedin.com/in/er-sumit-\\ns...   \n",
              "4     \\nContact\\nwww.linkedin.com/in/rahul-\\nchau...   \n",
              "\n",
              "                                                   1  \n",
              "0  {'entities': [[12, 39, 'LINKEDIN LINK'], [62, ...  \n",
              "1  {'entities': [[8, 53, 'LINKEDIN LINK'], [76, 8...  \n",
              "2  {'entities': [[12, 58, 'LINKEDIN LINK'], [95, ...  \n",
              "3  {'entities': [[12, 57, 'LINKEDIN LINK'], [116,...  \n",
              "4  {'entities': [[12, 58, 'LINKEDIN LINK'], [71, ...  "
            ]
          },
          "execution_count": 4,
          "metadata": {},
          "output_type": "execute_result"
        }
      ],
      "source": [
        "df2.head()"
      ]
    },
    {
      "cell_type": "code",
      "execution_count": null,
      "metadata": {
        "colab": {
          "base_uri": "https://localhost:8080/"
        },
        "id": "2OISN-orvb8I",
        "outputId": "3f608fad-9713-486c-d0b7-e448095c6d19"
      },
      "outputs": [
        {
          "data": {
            "text/plain": [
              "((200, 2), (1014, 2))"
            ]
          },
          "execution_count": 5,
          "metadata": {},
          "output_type": "execute_result"
        }
      ],
      "source": [
        "df1.shape, df2.shape"
      ]
    },
    {
      "cell_type": "markdown",
      "metadata": {
        "id": "z3wQLI8_ve6y"
      },
      "source": [
        "---\n",
        "#### re-prepair custome dataset\n",
        "---"
      ]
    },
    {
      "cell_type": "code",
      "execution_count": null,
      "metadata": {
        "id": "wshqZS8mvfNA"
      },
      "outputs": [],
      "source": [
        "training_data = []\n",
        "training_data.extend(df1.values.tolist())"
      ]
    },
    {
      "cell_type": "code",
      "execution_count": null,
      "metadata": {
        "colab": {
          "base_uri": "https://localhost:8080/"
        },
        "id": "fSJ41gg_ScbE",
        "outputId": "b64bc0cf-b904-4049-f754-5a05f3418731"
      },
      "outputs": [
        {
          "data": {
            "text/plain": [
              "200"
            ]
          },
          "execution_count": 7,
          "metadata": {},
          "output_type": "execute_result"
        }
      ],
      "source": [
        "len(training_data)"
      ]
    },
    {
      "cell_type": "code",
      "execution_count": null,
      "metadata": {
        "id": "tDDUaz6oToxj"
      },
      "outputs": [],
      "source": [
        "df2 = list(map(lambda x:x.tolist(), df2.values))"
      ]
    },
    {
      "cell_type": "code",
      "execution_count": null,
      "metadata": {
        "colab": {
          "base_uri": "https://localhost:8080/"
        },
        "id": "xFBHv68GTpEb",
        "outputId": "1033beb8-afaa-4d99-9e89-b24415617c54"
      },
      "outputs": [
        {
          "data": {
            "text/plain": [
              "1214"
            ]
          },
          "execution_count": 40,
          "metadata": {},
          "output_type": "execute_result"
        }
      ],
      "source": [
        "training_data.extend(df2)\n",
        "\n",
        "len(training_data)"
      ]
    },
    {
      "cell_type": "code",
      "execution_count": null,
      "metadata": {
        "colab": {
          "base_uri": "https://localhost:8080/"
        },
        "id": "Zq8Ve9wfTtQ9",
        "outputId": "8b69f765-f84a-43ea-dc9f-b7c81590d423"
      },
      "outputs": [
        {
          "name": "stderr",
          "output_type": "stream",
          "text": [
            "100%|██████████| 1214/1214 [00:00<00:00, 104271.40it/s]\n"
          ]
        }
      ],
      "source": [
        "for text, annot in tqdm(training_data):\n",
        "  for ent in annot[\"entities\"]:\n",
        "    ent[-1] = ent[-1].replace(\" \", \"_\").upper()\n"
      ]
    },
    {
      "cell_type": "markdown",
      "metadata": {
        "id": "n7wbQBzuUADL"
      },
      "source": [
        "---\n",
        "### total unique entites\n",
        "---"
      ]
    },
    {
      "cell_type": "code",
      "execution_count": null,
      "metadata": {
        "colab": {
          "base_uri": "https://localhost:8080/"
        },
        "id": "iE05Lk_MT0NT",
        "outputId": "32872f5c-f7fb-4cee-d2d3-6001f686f2c0"
      },
      "outputs": [
        {
          "data": {
            "text/plain": [
              "['COMPANIES_WORKED_AT',\n",
              " 'SKILLS',\n",
              " 'GRADUATION_YEAR',\n",
              " 'COLLEGE_NAME',\n",
              " 'DEGREE',\n",
              " 'DESIGNATION',\n",
              " 'EMAIL_ADDRESS',\n",
              " 'LOCATION',\n",
              " 'NAME',\n",
              " 'YEARS_OF_EXPERIENCE',\n",
              " 'UNKNOWN',\n",
              " 'LINKEDIN_LINK',\n",
              " 'CERTIFICATION',\n",
              " 'WORKED_AS',\n",
              " 'UNIVERSITY',\n",
              " 'YEAR_OF_GRADUATION',\n",
              " 'LANGUAGE',\n",
              " 'AWARDS',\n",
              " 'UNLABELLED',\n",
              " 'CONTACT']"
            ]
          },
          "execution_count": 42,
          "metadata": {},
          "output_type": "execute_result"
        }
      ],
      "source": [
        "unique_entities = []\n",
        "\n",
        "for elem in training_data:\n",
        "  for ent in elem[-1][\"entities\"]:\n",
        "    if ent[2] not in unique_entities:\n",
        "      unique_entities.append(ent[2])\n",
        "\n",
        "unique_entities"
      ]
    },
    {
      "cell_type": "code",
      "execution_count": null,
      "metadata": {
        "colab": {
          "base_uri": "https://localhost:8080/"
        },
        "id": "6nrfkdozT2IE",
        "outputId": "6d386791-c290-4c4f-de8d-f383edc19e3b"
      },
      "outputs": [
        {
          "data": {
            "text/plain": [
              "1214"
            ]
          },
          "execution_count": 54,
          "metadata": {},
          "output_type": "execute_result"
        }
      ],
      "source": [
        "len(training_data)"
      ]
    },
    {
      "cell_type": "code",
      "execution_count": null,
      "metadata": {
        "id": "vS0pL5mWXq_q"
      },
      "outputs": [],
      "source": []
    },
    {
      "cell_type": "markdown",
      "metadata": {
        "id": "AFRsfNQvvjxo"
      },
      "source": [
        "---\n",
        "#### training data format followed from:  https://spacy.io/usage/training#quictstart\n",
        "---"
      ]
    },
    {
      "cell_type": "code",
      "execution_count": null,
      "metadata": {
        "colab": {
          "base_uri": "https://localhost:8080/"
        },
        "id": "mdDfdTDUwWAp",
        "outputId": "fe08c9e8-8737-40b7-a249-ac1dfbe328d9"
      },
      "outputs": [
        {
          "data": {
            "text/plain": [
              "[\"\\xa0 \\xa0\\nContact\\nwww.linkedin.com/in/trupti-prajapati\\n(LinkedIn)\\nTop Skills\\nMicrosoft SQL Server\\nSQL Server Integration Services\\n(SSIS)\\nShell Scripting\\nTrupti Prajapati\\nSenior Database Administrator at Infosenseglobal Inc\\nGandhinagar, Gujarat, India\\nSummary\\nExperienced Sr. Database Administrator with a demonstrated history\\nof working in the information technology and services industry.\\nCurrently enjoying meternity leave from 1st April. I have Skilled in\\nMicrosoft SQL Server,Table partition, T-SQL, SQL, Shell Scripting,\\nQuery Optimization, Database Design, Database Migration and\\nSSIS. Strong engineering professional with a Master's Degree\\nfocused in Computer Engineering from Chatusat University, Changa.\\nExperience\\nInfosenseglobal Inc\\nSenior Database Administrator\\nAugust 2015\\xa0-\\xa0Present\\xa0 (7 years)\\nGandhinagar, Gujarat, India\\neiTRA - eInfochips Training & Research Academy Ltd\\nProject Intern\\nJuly 2014\\xa0-\\xa0May 2015\\xa0 (11 months)\\nEducation\\nChatusat University, Changa\\nMaster’s Degree,\\xa0Computer Engineering \\xa0·\\xa0(2013\\xa0-\\xa02015)\\nLalajibhai chaturbhai institute of technology, Bhandu\\nBachelor’s Degree,\\xa0computer science and technology \\xa0·\\xa0(2008\\xa0-\\xa02012)\\n\\xa0 Page 1 of 1\",\n",
              " {'entities': [[12, 48, 'LINKEDIN_LINK'],\n",
              "   [71, 91, 'SKILLS'],\n",
              "   [92, 130, 'SKILLS'],\n",
              "   [131, 146, 'SKILLS'],\n",
              "   [147, 163, 'NAME'],\n",
              "   [217, 244, 'LOCATION'],\n",
              "   [718, 737, 'COMPANIES_WORKED_AT'],\n",
              "   [738, 767, 'WORKED_AS'],\n",
              "   [792, 799, 'YEARS_OF_EXPERIENCE'],\n",
              "   [829, 879, 'COMPANIES_WORKED_AT'],\n",
              "   [880, 894, 'WORKED_AS'],\n",
              "   [918, 927, 'YEARS_OF_EXPERIENCE'],\n",
              "   [939, 958, 'UNIVERSITY'],\n",
              "   [960, 1004, 'DEGREE'],\n",
              "   [1016, 1020, 'YEAR_OF_GRADUATION'],\n",
              "   [1022, 1067, 'COLLEGE_NAME'],\n",
              "   [1069, 1126, 'DEGREE'],\n",
              "   [1138, 1142, 'YEAR_OF_GRADUATION']]}]"
            ]
          },
          "execution_count": 43,
          "metadata": {},
          "output_type": "execute_result"
        }
      ],
      "source": [
        "df2[50]"
      ]
    },
    {
      "cell_type": "code",
      "execution_count": null,
      "metadata": {
        "id": "bme46Hybwcqb"
      },
      "outputs": [],
      "source": []
    },
    {
      "cell_type": "code",
      "execution_count": null,
      "metadata": {
        "colab": {
          "base_uri": "https://localhost:8080/"
        },
        "id": "d3CbtvRDwiiY",
        "outputId": "fcc71a27-1b68-4cbb-ac8f-06f435344958"
      },
      "outputs": [
        {
          "name": "stdout",
          "output_type": "stream",
          "text": [
            "Mon May 29 16:37:43 2023       \n",
            "+-----------------------------------------------------------------------------+\n",
            "| NVIDIA-SMI 525.85.12    Driver Version: 525.85.12    CUDA Version: 12.0     |\n",
            "|-------------------------------+----------------------+----------------------+\n",
            "| GPU  Name        Persistence-M| Bus-Id        Disp.A | Volatile Uncorr. ECC |\n",
            "| Fan  Temp  Perf  Pwr:Usage/Cap|         Memory-Usage | GPU-Util  Compute M. |\n",
            "|                               |                      |               MIG M. |\n",
            "|===============================+======================+======================|\n",
            "|   0  Tesla T4            Off  | 00000000:00:04.0 Off |                    0 |\n",
            "| N/A   64C    P8    11W /  70W |      0MiB / 15360MiB |      0%      Default |\n",
            "|                               |                      |                  N/A |\n",
            "+-------------------------------+----------------------+----------------------+\n",
            "                                                                               \n",
            "+-----------------------------------------------------------------------------+\n",
            "| Processes:                                                                  |\n",
            "|  GPU   GI   CI        PID   Type   Process name                  GPU Memory |\n",
            "|        ID   ID                                                   Usage      |\n",
            "|=============================================================================|\n",
            "|  No running processes found                                                 |\n",
            "+-----------------------------------------------------------------------------+\n",
            "\n"
          ]
        }
      ],
      "source": [
        "# !nvidia-smi\n",
        "\n",
        "import subprocess\n",
        "\n",
        "outp = subprocess.run([\"nvidia-smi\"], capture_output=True).stdout.decode()\n",
        "print(outp)"
      ]
    },
    {
      "cell_type": "code",
      "execution_count": 1,
      "metadata": {
        "colab": {
          "base_uri": "https://localhost:8080/"
        },
        "id": "mL-Mk0F_wiyw",
        "outputId": "3c3294b3-19fd-4f2f-9c31-3b8ea0b57a75"
      },
      "outputs": [
        {
          "output_type": "stream",
          "name": "stdout",
          "text": [
            "Looking in indexes: https://pypi.org/simple, https://us-python.pkg.dev/colab-wheels/public/simple/\n",
            "Collecting spacy_transformers\n",
            "  Downloading spacy_transformers-1.2.5-cp310-cp310-manylinux_2_17_x86_64.manylinux2014_x86_64.whl (190 kB)\n",
            "     ━━━━━━━━━━━━━━━━━━━━━━━━━━━━━━━━━━━━━━━ 190.8/190.8 kB 5.8 MB/s eta 0:00:00\n",
            "Requirement already satisfied: spacy<4.0.0,>=3.5.0 in /usr/local/lib/python3.10/dist-packages (from spacy_transformers) (3.5.2)\n",
            "Requirement already satisfied: numpy>=1.15.0 in /usr/local/lib/python3.10/dist-packages (from spacy_transformers) (1.22.4)\n",
            "Collecting transformers<4.31.0,>=3.4.0 (from spacy_transformers)\n",
            "  Downloading transformers-4.30.2-py3-none-any.whl (7.2 MB)\n",
            "     ━━━━━━━━━━━━━━━━━━━━━━━━━━━━━━━━━━━━━━━━ 7.2/7.2 MB 74.5 MB/s eta 0:00:00\n",
            "Requirement already satisfied: torch>=1.8.0 in /usr/local/lib/python3.10/dist-packages (from spacy_transformers) (2.0.1+cu118)\n",
            "Requirement already satisfied: srsly<3.0.0,>=2.4.0 in /usr/local/lib/python3.10/dist-packages (from spacy_transformers) (2.4.6)\n",
            "Collecting spacy-alignments<1.0.0,>=0.7.2 (from spacy_transformers)\n",
            "  Downloading spacy_alignments-0.9.0-cp310-cp310-manylinux_2_17_x86_64.manylinux2014_x86_64.whl (1.2 MB)\n",
            "     ━━━━━━━━━━━━━━━━━━━━━━━━━━━━━━━━━━━━━━━━ 1.2/1.2 MB 61.4 MB/s eta 0:00:00\n",
            "Requirement already satisfied: spacy-legacy<3.1.0,>=3.0.11 in /usr/local/lib/python3.10/dist-packages (from spacy<4.0.0,>=3.5.0->spacy_transformers) (3.0.12)\n",
            "Requirement already satisfied: spacy-loggers<2.0.0,>=1.0.0 in /usr/local/lib/python3.10/dist-packages (from spacy<4.0.0,>=3.5.0->spacy_transformers) (1.0.4)\n",
            "Requirement already satisfied: murmurhash<1.1.0,>=0.28.0 in /usr/local/lib/python3.10/dist-packages (from spacy<4.0.0,>=3.5.0->spacy_transformers) (1.0.9)\n",
            "Requirement already satisfied: cymem<2.1.0,>=2.0.2 in /usr/local/lib/python3.10/dist-packages (from spacy<4.0.0,>=3.5.0->spacy_transformers) (2.0.7)\n",
            "Requirement already satisfied: preshed<3.1.0,>=3.0.2 in /usr/local/lib/python3.10/dist-packages (from spacy<4.0.0,>=3.5.0->spacy_transformers) (3.0.8)\n",
            "Requirement already satisfied: thinc<8.2.0,>=8.1.8 in /usr/local/lib/python3.10/dist-packages (from spacy<4.0.0,>=3.5.0->spacy_transformers) (8.1.9)\n",
            "Requirement already satisfied: wasabi<1.2.0,>=0.9.1 in /usr/local/lib/python3.10/dist-packages (from spacy<4.0.0,>=3.5.0->spacy_transformers) (1.1.1)\n",
            "Requirement already satisfied: catalogue<2.1.0,>=2.0.6 in /usr/local/lib/python3.10/dist-packages (from spacy<4.0.0,>=3.5.0->spacy_transformers) (2.0.8)\n",
            "Requirement already satisfied: typer<0.8.0,>=0.3.0 in /usr/local/lib/python3.10/dist-packages (from spacy<4.0.0,>=3.5.0->spacy_transformers) (0.7.0)\n",
            "Requirement already satisfied: pathy>=0.10.0 in /usr/local/lib/python3.10/dist-packages (from spacy<4.0.0,>=3.5.0->spacy_transformers) (0.10.1)\n",
            "Requirement already satisfied: smart-open<7.0.0,>=5.2.1 in /usr/local/lib/python3.10/dist-packages (from spacy<4.0.0,>=3.5.0->spacy_transformers) (6.3.0)\n",
            "Requirement already satisfied: tqdm<5.0.0,>=4.38.0 in /usr/local/lib/python3.10/dist-packages (from spacy<4.0.0,>=3.5.0->spacy_transformers) (4.65.0)\n",
            "Requirement already satisfied: requests<3.0.0,>=2.13.0 in /usr/local/lib/python3.10/dist-packages (from spacy<4.0.0,>=3.5.0->spacy_transformers) (2.27.1)\n",
            "Requirement already satisfied: pydantic!=1.8,!=1.8.1,<1.11.0,>=1.7.4 in /usr/local/lib/python3.10/dist-packages (from spacy<4.0.0,>=3.5.0->spacy_transformers) (1.10.7)\n",
            "Requirement already satisfied: jinja2 in /usr/local/lib/python3.10/dist-packages (from spacy<4.0.0,>=3.5.0->spacy_transformers) (3.1.2)\n",
            "Requirement already satisfied: setuptools in /usr/local/lib/python3.10/dist-packages (from spacy<4.0.0,>=3.5.0->spacy_transformers) (67.7.2)\n",
            "Requirement already satisfied: packaging>=20.0 in /usr/local/lib/python3.10/dist-packages (from spacy<4.0.0,>=3.5.0->spacy_transformers) (23.1)\n",
            "Requirement already satisfied: langcodes<4.0.0,>=3.2.0 in /usr/local/lib/python3.10/dist-packages (from spacy<4.0.0,>=3.5.0->spacy_transformers) (3.3.0)\n",
            "Requirement already satisfied: filelock in /usr/local/lib/python3.10/dist-packages (from torch>=1.8.0->spacy_transformers) (3.12.0)\n",
            "Requirement already satisfied: typing-extensions in /usr/local/lib/python3.10/dist-packages (from torch>=1.8.0->spacy_transformers) (4.5.0)\n",
            "Requirement already satisfied: sympy in /usr/local/lib/python3.10/dist-packages (from torch>=1.8.0->spacy_transformers) (1.11.1)\n",
            "Requirement already satisfied: networkx in /usr/local/lib/python3.10/dist-packages (from torch>=1.8.0->spacy_transformers) (3.1)\n",
            "Requirement already satisfied: triton==2.0.0 in /usr/local/lib/python3.10/dist-packages (from torch>=1.8.0->spacy_transformers) (2.0.0)\n",
            "Requirement already satisfied: cmake in /usr/local/lib/python3.10/dist-packages (from triton==2.0.0->torch>=1.8.0->spacy_transformers) (3.25.2)\n",
            "Requirement already satisfied: lit in /usr/local/lib/python3.10/dist-packages (from triton==2.0.0->torch>=1.8.0->spacy_transformers) (16.0.5)\n",
            "Collecting huggingface-hub<1.0,>=0.14.1 (from transformers<4.31.0,>=3.4.0->spacy_transformers)\n",
            "  Downloading huggingface_hub-0.15.1-py3-none-any.whl (236 kB)\n",
            "     ━━━━━━━━━━━━━━━━━━━━━━━━━━━━━━━━━━━━━━ 236.8/236.8 kB 28.8 MB/s eta 0:00:00\n",
            "Requirement already satisfied: pyyaml>=5.1 in /usr/local/lib/python3.10/dist-packages (from transformers<4.31.0,>=3.4.0->spacy_transformers) (6.0)\n",
            "Requirement already satisfied: regex!=2019.12.17 in /usr/local/lib/python3.10/dist-packages (from transformers<4.31.0,>=3.4.0->spacy_transformers) (2022.10.31)\n",
            "Collecting tokenizers!=0.11.3,<0.14,>=0.11.1 (from transformers<4.31.0,>=3.4.0->spacy_transformers)\n",
            "  Downloading tokenizers-0.13.3-cp310-cp310-manylinux_2_17_x86_64.manylinux2014_x86_64.whl (7.8 MB)\n",
            "     ━━━━━━━━━━━━━━━━━━━━━━━━━━━━━━━━━━━━━━━━ 7.8/7.8 MB 116.4 MB/s eta 0:00:00\n",
            "Collecting safetensors>=0.3.1 (from transformers<4.31.0,>=3.4.0->spacy_transformers)\n",
            "  Downloading safetensors-0.3.1-cp310-cp310-manylinux_2_17_x86_64.manylinux2014_x86_64.whl (1.3 MB)\n",
            "     ━━━━━━━━━━━━━━━━━━━━━━━━━━━━━━━━━━━━━━━━ 1.3/1.3 MB 84.7 MB/s eta 0:00:00\n",
            "Requirement already satisfied: fsspec in /usr/local/lib/python3.10/dist-packages (from huggingface-hub<1.0,>=0.14.1->transformers<4.31.0,>=3.4.0->spacy_transformers) (2023.4.0)\n",
            "Requirement already satisfied: urllib3<1.27,>=1.21.1 in /usr/local/lib/python3.10/dist-packages (from requests<3.0.0,>=2.13.0->spacy<4.0.0,>=3.5.0->spacy_transformers) (1.26.15)\n",
            "Requirement already satisfied: certifi>=2017.4.17 in /usr/local/lib/python3.10/dist-packages (from requests<3.0.0,>=2.13.0->spacy<4.0.0,>=3.5.0->spacy_transformers) (2022.12.7)\n",
            "Requirement already satisfied: charset-normalizer~=2.0.0 in /usr/local/lib/python3.10/dist-packages (from requests<3.0.0,>=2.13.0->spacy<4.0.0,>=3.5.0->spacy_transformers) (2.0.12)\n",
            "Requirement already satisfied: idna<4,>=2.5 in /usr/local/lib/python3.10/dist-packages (from requests<3.0.0,>=2.13.0->spacy<4.0.0,>=3.5.0->spacy_transformers) (3.4)\n",
            "Requirement already satisfied: blis<0.8.0,>=0.7.8 in /usr/local/lib/python3.10/dist-packages (from thinc<8.2.0,>=8.1.8->spacy<4.0.0,>=3.5.0->spacy_transformers) (0.7.9)\n",
            "Requirement already satisfied: confection<1.0.0,>=0.0.1 in /usr/local/lib/python3.10/dist-packages (from thinc<8.2.0,>=8.1.8->spacy<4.0.0,>=3.5.0->spacy_transformers) (0.0.4)\n",
            "Requirement already satisfied: click<9.0.0,>=7.1.1 in /usr/local/lib/python3.10/dist-packages (from typer<0.8.0,>=0.3.0->spacy<4.0.0,>=3.5.0->spacy_transformers) (8.1.3)\n",
            "Requirement already satisfied: MarkupSafe>=2.0 in /usr/local/lib/python3.10/dist-packages (from jinja2->spacy<4.0.0,>=3.5.0->spacy_transformers) (2.1.2)\n",
            "Requirement already satisfied: mpmath>=0.19 in /usr/local/lib/python3.10/dist-packages (from sympy->torch>=1.8.0->spacy_transformers) (1.3.0)\n",
            "Installing collected packages: tokenizers, safetensors, spacy-alignments, huggingface-hub, transformers, spacy_transformers\n",
            "Successfully installed huggingface-hub-0.15.1 safetensors-0.3.1 spacy-alignments-0.9.0 spacy_transformers-1.2.5 tokenizers-0.13.3 transformers-4.30.2\n",
            "\n"
          ]
        }
      ],
      "source": [
        "import subprocess\n",
        "\n",
        "outp = subprocess.run(\"pip install spacy_transformers\".split(), capture_output=True).stdout.decode()\n",
        "print(outp)"
      ]
    },
    {
      "cell_type": "code",
      "execution_count": 8,
      "metadata": {
        "id": "bUsgMPd0w0uy"
      },
      "outputs": [],
      "source": [
        "import spacy\n",
        "import spacy_transformers\n",
        "from spacy.tokens import DocBin"
      ]
    },
    {
      "cell_type": "code",
      "execution_count": 9,
      "metadata": {
        "colab": {
          "base_uri": "https://localhost:8080/",
          "height": 35
        },
        "id": "-IPeLeDVw1uB",
        "outputId": "5b3c900c-aa1a-46d6-9f23-728fefed4770"
      },
      "outputs": [
        {
          "output_type": "execute_result",
          "data": {
            "text/plain": [
              "'3.5.2'"
            ],
            "application/vnd.google.colaboratory.intrinsic+json": {
              "type": "string"
            }
          },
          "metadata": {},
          "execution_count": 9
        }
      ],
      "source": [
        "spacy.__version__"
      ]
    },
    {
      "cell_type": "code",
      "execution_count": null,
      "metadata": {
        "id": "1-lsobK2w7BJ"
      },
      "outputs": [],
      "source": []
    },
    {
      "cell_type": "markdown",
      "metadata": {
        "id": "NvWLEGFtw50Y"
      },
      "source": [
        "---\n",
        "### setting up \"cofig.cfg\" file for training\n",
        "---"
      ]
    },
    {
      "cell_type": "code",
      "execution_count": null,
      "metadata": {
        "colab": {
          "base_uri": "https://localhost:8080/"
        },
        "id": "aRW4jlrxw3s5",
        "outputId": "111e3bf4-a7d6-4999-ee76-e9de0d8776d3"
      },
      "outputs": [
        {
          "name": "stdout",
          "output_type": "stream",
          "text": [
            "\u001b[38;5;2m✔ Auto-filled config with all values\u001b[0m\n",
            "\u001b[38;5;2m✔ Saved config\u001b[0m\n",
            "/content/drive/MyDrive/Colab_Notebooks/NLP/NLP_Projects/Resume_Summarizer/config/config.cfg\n",
            "You can now add your data and train your pipeline:\n",
            "python -m spacy train config.cfg --paths.train ./train.spacy --paths.dev ./dev.spacy\n",
            "\n"
          ]
        }
      ],
      "source": [
        "outp = subprocess.run(\"python -m spacy init fill-config /content/drive/MyDrive/Colab_Notebooks/NLP/NLP_Projects/Resume_Summarizer/config/base_config.cfg /content/drive/MyDrive/Colab_Notebooks/NLP/NLP_Projects/Resume_Summarizer/config/config.cfg\".split(), capture_output=True)\n",
        "print(outp.stdout.decode())"
      ]
    },
    {
      "cell_type": "code",
      "execution_count": null,
      "metadata": {
        "id": "1KDAowXdw--B"
      },
      "outputs": [],
      "source": [
        "\n",
        "def make_spacy_doc(data, err_file_path):\n",
        "  nlp = spacy.blank(\"en\")\n",
        "  db = DocBin()\n",
        "\n",
        "  err_file = open(err_file_path, \"w\")                         ## to store error datas\n",
        "\n",
        "\n",
        "  for txt, annotation in tqdm(data):\n",
        "    doc = nlp.make_doc(txt)\n",
        "    annot = annotation[\"entities\"]\n",
        "\n",
        "    ents = []\n",
        "    ents_indices = []\n",
        "\n",
        "    for start, end, label in annot:\n",
        "      skip_entity = False\n",
        "\n",
        "      for idx in range(start, end):                           ## to skip overlapping Entities or Labels/ error data\n",
        "        if idx in ents_indices:\n",
        "          skip_entity = True\n",
        "          break\n",
        "\n",
        "      if skip_entity:\n",
        "        continue\n",
        "\n",
        "      ents_indices.extend(list(range(start, end)))\n",
        "\n",
        "\n",
        "      try:\n",
        "        span = doc.char_span(start, end, label=label, alignment_mode=\"strict\")\n",
        "      except:\n",
        "        continue\n",
        "\n",
        "      if span == None:\n",
        "        err_data = f\"{(start, end)}    {label}\\n\"\n",
        "        err_file.write(err_data)                            ## storing error datas\n",
        "\n",
        "      else:\n",
        "        ents.append(span)\n",
        "\n",
        "\n",
        "    try:\n",
        "      doc.ents = ents\n",
        "      db.add(doc)\n",
        "    except:\n",
        "      pass\n",
        "\n",
        "\n",
        "  err_file.close()\n",
        "\n",
        "  return db\n"
      ]
    },
    {
      "cell_type": "code",
      "execution_count": null,
      "metadata": {
        "id": "7h0VjgalxAfg"
      },
      "outputs": [],
      "source": []
    },
    {
      "cell_type": "code",
      "execution_count": null,
      "metadata": {
        "colab": {
          "base_uri": "https://localhost:8080/"
        },
        "id": "Y8NTGmYkxB1A",
        "outputId": "f9edfe85-7e82-4788-9041-d247ebbf804d"
      },
      "outputs": [
        {
          "data": {
            "text/plain": [
              "(1214, 910, 304)"
            ]
          },
          "execution_count": 50,
          "metadata": {},
          "output_type": "execute_result"
        }
      ],
      "source": [
        "from sklearn.model_selection import train_test_split\n",
        "\n",
        "train_data, test_data = train_test_split(training_data, test_size=0.25, random_state=True)\n",
        "\n",
        "len(training_data), len(train_data), len(test_data)"
      ]
    },
    {
      "cell_type": "code",
      "execution_count": null,
      "metadata": {
        "colab": {
          "base_uri": "https://localhost:8080/"
        },
        "id": "wWtTu8o7xCrw",
        "outputId": "161b1e6f-8771-4398-fa7b-6730931cac8c"
      },
      "outputs": [
        {
          "name": "stderr",
          "output_type": "stream",
          "text": [
            "100%|██████████| 910/910 [00:07<00:00, 127.12it/s]\n",
            "100%|██████████| 304/304 [00:07<00:00, 39.54it/s]\n"
          ]
        }
      ],
      "source": [
        "\n",
        "db = make_spacy_doc(train_data, \"/content/drive/MyDrive/Colab_Notebooks/NLP/NLP_Projects/Resume_Summarizer/error_datas/errors.txt\")\n",
        "db.to_disk(\"train_data.spacy\")\n",
        "\n",
        "db = make_spacy_doc(test_data, \"/content/drive/MyDrive/Colab_Notebooks/NLP/NLP_Projects/Resume_Summarizer/error_datas/errors.txt\")\n",
        "db.to_disk(\"test_data.spacy\")"
      ]
    },
    {
      "cell_type": "code",
      "execution_count": null,
      "metadata": {
        "colab": {
          "base_uri": "https://localhost:8080/"
        },
        "id": "1xzpdvSjxEa5",
        "outputId": "f4288907-b251-431d-965b-9253fed106d1"
      },
      "outputs": [
        {
          "data": {
            "text/plain": [
              "304"
            ]
          },
          "execution_count": 52,
          "metadata": {},
          "output_type": "execute_result"
        }
      ],
      "source": [
        "len(db.tokens)"
      ]
    },
    {
      "cell_type": "code",
      "execution_count": null,
      "metadata": {
        "id": "JzcPeAbLxGJY"
      },
      "outputs": [],
      "source": []
    },
    {
      "cell_type": "markdown",
      "metadata": {
        "id": "D4Oso8xCxH_Q"
      },
      "source": [
        "---\n",
        "### training spacy en blank NER model\n",
        "---"
      ]
    },
    {
      "cell_type": "markdown",
      "metadata": {
        "id": "mV5HmjNVxJF4"
      },
      "source": [
        "---\n",
        "### starting training.....\n",
        "---"
      ]
    },
    {
      "cell_type": "code",
      "execution_count": 2,
      "metadata": {
        "colab": {
          "base_uri": "https://localhost:8080/"
        },
        "id": "RezOrIObxKsp",
        "outputId": "d861d024-671f-46b9-a321-d40834bc3630"
      },
      "outputs": [
        {
          "output_type": "stream",
          "name": "stdout",
          "text": [
            "2023-06-16 13:13:02.375370: I tensorflow/core/platform/cpu_feature_guard.cc:182] This TensorFlow binary is optimized to use available CPU instructions in performance-critical operations.\n",
            "To enable the following instructions: AVX2 FMA, in other operations, rebuild TensorFlow with the appropriate compiler flags.\n",
            "2023-06-16 13:13:03.413340: W tensorflow/compiler/tf2tensorrt/utils/py_utils.cc:38] TF-TRT Warning: Could not find TensorRT\n",
            "2023-06-16 13:13:04.742319: I tensorflow/compiler/xla/stream_executor/cuda/cuda_gpu_executor.cc:996] successful NUMA node read from SysFS had negative value (-1), but there must be at least one NUMA node, so returning NUMA node zero. See more at https://github.com/torvalds/linux/blob/v6.0/Documentation/ABI/testing/sysfs-bus-pci#L344-L355\n",
            "2023-06-16 13:13:04.742775: I tensorflow/compiler/xla/stream_executor/cuda/cuda_gpu_executor.cc:996] successful NUMA node read from SysFS had negative value (-1), but there must be at least one NUMA node, so returning NUMA node zero. See more at https://github.com/torvalds/linux/blob/v6.0/Documentation/ABI/testing/sysfs-bus-pci#L344-L355\n",
            "2023-06-16 13:13:04.742947: I tensorflow/compiler/xla/stream_executor/cuda/cuda_gpu_executor.cc:996] successful NUMA node read from SysFS had negative value (-1), but there must be at least one NUMA node, so returning NUMA node zero. See more at https://github.com/torvalds/linux/blob/v6.0/Documentation/ABI/testing/sysfs-bus-pci#L344-L355\n",
            "\u001b[38;5;4mℹ Saving to output directory:\n",
            "/content/drive/MyDrive/Colab_Notebooks/NLP/NLP_Projects/Resume_Summarizer/output\u001b[0m\n",
            "\u001b[38;5;4mℹ Using GPU: 0\u001b[0m\n",
            "\u001b[1m\n",
            "=========================== Initializing pipeline ===========================\u001b[0m\n",
            "[2023-06-16 13:13:16,701] [INFO] Set up nlp object from config\n",
            "[2023-06-16 13:13:16,716] [INFO] Pipeline: ['transformer', 'ner']\n",
            "[2023-06-16 13:13:16,719] [INFO] Created vocabulary\n",
            "[2023-06-16 13:13:16,721] [INFO] Finished initializing nlp object\n",
            "Downloading (…)lve/main/config.json: 100% 481/481 [00:00<00:00, 3.36MB/s]\n",
            "Downloading (…)olve/main/vocab.json: 100% 899k/899k [00:00<00:00, 14.9MB/s]\n",
            "Downloading (…)olve/main/merges.txt: 100% 456k/456k [00:00<00:00, 11.2MB/s]\n",
            "Downloading (…)/main/tokenizer.json: 100% 1.36M/1.36M [00:00<00:00, 61.4MB/s]\n",
            "Downloading model.safetensors: 100% 499M/499M [00:08<00:00, 57.0MB/s]\n",
            "Some weights of the model checkpoint at roberta-base were not used when initializing RobertaModel: ['lm_head.layer_norm.bias', 'lm_head.dense.weight', 'lm_head.dense.bias', 'lm_head.layer_norm.weight', 'lm_head.bias']\n",
            "- This IS expected if you are initializing RobertaModel from the checkpoint of a model trained on another task or with another architecture (e.g. initializing a BertForSequenceClassification model from a BertForPreTraining model).\n",
            "- This IS NOT expected if you are initializing RobertaModel from the checkpoint of a model that you expect to be exactly identical (initializing a BertForSequenceClassification model from a BertForSequenceClassification model).\n",
            "Some weights of RobertaModel were not initialized from the model checkpoint at roberta-base and are newly initialized: ['roberta.pooler.dense.bias', 'roberta.pooler.dense.weight']\n",
            "You should probably TRAIN this model on a down-stream task to be able to use it for predictions and inference.\n",
            "[2023-06-16 13:14:01,960] [INFO] Initialized pipeline components: ['transformer', 'ner']\n",
            "\u001b[38;5;2m✔ Initialized pipeline\u001b[0m\n",
            "\u001b[1m\n",
            "============================= Training pipeline =============================\u001b[0m\n",
            "\u001b[38;5;4mℹ Pipeline: ['transformer', 'ner']\u001b[0m\n",
            "\u001b[38;5;4mℹ Initial learn rate: 0.0\u001b[0m\n",
            "E    #       LOSS TRANS...  LOSS NER  ENTS_F  ENTS_P  ENTS_R  SCORE \n",
            "---  ------  -------------  --------  ------  ------  ------  ------\n",
            "  0       0        1283.82   2051.78    0.16    0.08    1.47    0.00\n",
            "  0     200      472234.82  92381.53    0.65    5.80    0.34    0.01\n",
            "  1     400      408494.55  40365.03   55.35   67.04   47.13    0.55\n",
            "  2     600       96817.14  21787.88   59.60   66.40   54.06    0.60\n",
            "  3     800       82809.95  18284.02   77.11   80.23   74.22    0.77\n",
            "  3    1000       12837.40  15438.60   79.47   84.67   74.88    0.79\n",
            "  4    1200        8799.67  12489.12   81.50   81.43   81.56    0.81\n",
            "  5    1400        9540.54  12421.21   82.17   83.64   80.75    0.82\n",
            "  6    1600        8290.19  11543.68   82.04   81.95   82.13    0.82\n",
            "  7    1800       35499.89  11573.00   80.38   78.37   82.49    0.80\n",
            "  8    2000       53297.60  14016.73   83.48   83.07   83.89    0.83\n",
            "  8    2200        6184.51   9828.86   83.41   83.30   83.52    0.83\n",
            "  9    2400       18284.36   9826.54   83.80   84.61   82.99    0.84\n",
            " 10    2600       13671.41   8926.78   83.07   81.47   84.74    0.83\n",
            " 11    2800       20214.97   9240.48   83.12   81.42   84.88    0.83\n",
            " 11    3000       18063.15   9648.21   82.80   81.07   84.61    0.83\n",
            " 12    3200       74141.70   8555.39   83.46   84.09   82.84    0.83\n",
            " 13    3400        5267.05   8561.05   82.93   85.05   80.90    0.83\n",
            " 14    3600       11403.11   6902.36   83.77   84.82   82.75    0.84\n",
            " 15    3800       49650.39   8611.36   83.12   82.29   83.97    0.83\n",
            " 15    4000       45399.36   8519.97   83.34   83.11   83.56    0.83\n",
            "\u001b[38;5;2m✔ Saved pipeline to output directory\u001b[0m\n",
            "/content/drive/MyDrive/Colab_Notebooks/NLP/NLP_Projects/Resume_Summarizer/output/model-last\n"
          ]
        }
      ],
      "source": [
        "!python -m spacy train /content/drive/MyDrive/Colab_Notebooks/NLP/NLP_Projects/Resume_Summarizer/config/config.cfg --output /content/drive/MyDrive/Colab_Notebooks/NLP/NLP_Projects/Resume_Summarizer/output --paths.train /content/train_data.spacy --paths.dev /content/test_data.spacy --gpu-id 0"
      ]
    },
    {
      "cell_type": "code",
      "execution_count": null,
      "metadata": {
        "id": "Kn_BjIsHxfSA"
      },
      "outputs": [],
      "source": []
    },
    {
      "cell_type": "markdown",
      "metadata": {
        "id": "yHuXqd3q6kZX"
      },
      "source": [
        "---\n",
        "### testing...\n",
        "---"
      ]
    },
    {
      "cell_type": "code",
      "execution_count": null,
      "metadata": {
        "colab": {
          "base_uri": "https://localhost:8080/"
        },
        "id": "fdm8Wc0G8lU4",
        "outputId": "43373c90-48ed-4934-d692-9eb20fd8bc7f"
      },
      "outputs": [
        {
          "name": "stdout",
          "output_type": "stream",
          "text": [
            "Looking in indexes: https://pypi.org/simple, https://us-python.pkg.dev/colab-wheels/public/simple/\n",
            "Collecting PyMuPDF\n",
            "  Downloading PyMuPDF-1.22.3-cp310-cp310-manylinux_2_17_x86_64.manylinux2014_x86_64.whl (14.1 MB)\n",
            "\u001b[2K     \u001b[90m━━━━━━━━━━━━━━━━━━━━━━━━━━━━━━━━━━━━━━━━\u001b[0m \u001b[32m14.1/14.1 MB\u001b[0m \u001b[31m79.6 MB/s\u001b[0m eta \u001b[36m0:00:00\u001b[0m\n",
            "\u001b[?25hInstalling collected packages: PyMuPDF\n",
            "Successfully installed PyMuPDF-1.22.3\n"
          ]
        }
      ],
      "source": [
        "!pip install PyMuPDF"
      ]
    },
    {
      "cell_type": "code",
      "execution_count": 16,
      "metadata": {
        "id": "MA2oX8WN90nf"
      },
      "outputs": [],
      "source": [
        "import sys, fitz"
      ]
    },
    {
      "cell_type": "code",
      "execution_count": 17,
      "metadata": {
        "id": "6hV-lBVo8KjQ"
      },
      "outputs": [],
      "source": [
        "nlp = spacy.load(\"/content/drive/MyDrive/Colab_Notebooks/NLP/NLP_Projects/Resume_Summarizer/output/model-best\")"
      ]
    },
    {
      "cell_type": "code",
      "execution_count": 18,
      "metadata": {
        "id": "fZ7IOlGg912P"
      },
      "outputs": [],
      "source": [
        "def pdf_to_text(file_nm):\n",
        "  text = \" \"\n",
        "  doc = fitz.open(file_nm)\n",
        "\n",
        "  for page in doc:\n",
        "    text += str(page.get_text())\n",
        "\n",
        "  return text"
      ]
    },
    {
      "cell_type": "code",
      "execution_count": 19,
      "metadata": {
        "colab": {
          "base_uri": "https://localhost:8080/"
        },
        "id": "ctFmuetj-eZ4",
        "outputId": "8437fff1-cd43-4e52-a03f-7fa27d17beea"
      },
      "outputs": [
        {
          "output_type": "stream",
          "name": "stdout",
          "text": [
            "NAME                    ->>   Md. Ishtiuk Ahammmed\n",
            "LOCATION                ->>   Bhuiyan Mansion, Feni, Bangladesh\n",
            "EMAIL_ADDRESS           ->>   +8801840021060\n",
            "SKILLS                  ->>   Python, Machine Learning\n",
            "SKILLS                  ->>   Deep Learning\n",
            "SKILLS                  ->>   Data Analysis\n",
            "SKILLS                  ->>   NLP\n",
            "SKILLS                  ->>   MySQL\n",
            "SKILLS                  ->>   Flask\n",
            "SKILLS                  ->>   HTML\n",
            "SKILLS                  ->>   CSS\n",
            "SKILLS                  ->>   Bootstrap\n",
            "SKILLS                  ->>   Tailwind CSS\n",
            "SKILLS                  ->>   Beautifulsoup.\n",
            "WORKED_AS               ->>   Laptop Price Predictor\n",
            "WORKED_AS               ->>   Movie Recommender System\n",
            "WORKED_AS               ->>   Realtime Object Detection\n",
            "WORKED_AS               ->>   Cisco Networking\n"
          ]
        }
      ],
      "source": [
        "doc = nlp(pdf_to_text(\"/content/drive/MyDrive/Colab_Notebooks/NLP/NLP_Projects/Resume_Summarizer/testing_data/resume.pdf\"))\n",
        "\n",
        "for ent in doc.ents:\n",
        "  print(ent.label_.ljust(20, \" \"), \"   ->>  \", ent.text, end=\"\\n\")"
      ]
    },
    {
      "cell_type": "code",
      "execution_count": 20,
      "metadata": {
        "colab": {
          "base_uri": "https://localhost:8080/"
        },
        "id": "0lsm0wYl-Ziv",
        "outputId": "c859089e-5cf1-46b5-fbcf-4184ec68ee96"
      },
      "outputs": [
        {
          "output_type": "stream",
          "name": "stdout",
          "text": [
            "NAME                    ->>   Michael Smith\n",
            "SKILLS                  ->>   Big Data/ Azure\n",
            "LOCATION                ->>   Manchester\n",
            "EMAIL_ADDRESS           ->>   indeed.com/r/falicent/140749dace5dc26f\n",
            "COMPANIES_WORKED_AT     ->>   inthe\n",
            "COMPANIES_WORKED_AT     ->>   Microsoft\n",
            "COMPANIES_WORKED_AT     ->>   Microsoft\n",
            "COMPANIES_WORKED_AT     ->>   Microsoft\n",
            "COMPANIES_WORKED_AT     ->>   Microsoft\n",
            "COMPANIES_WORKED_AT     ->>   Microsoft\n",
            "COMPANIES_WORKED_AT     ->>   Microsoft\n",
            "COMPANIES_WORKED_AT     ->>   Microsoft\n",
            "COMPANIES_WORKED_AT     ->>   Microsoft\n",
            "COMPANIES_WORKED_AT     ->>   Microsoft\n",
            "COMPANIES_WORKED_AT     ->>   Microsoft\n",
            "COMPANIES_WORKED_AT     ->>   Microsoft\n",
            "COMPANIES_WORKED_AT     ->>   Microsoft\n",
            "COMPANIES_WORKED_AT     ->>   Microsoft\n",
            "UNIVERSITY              ->>   The University of Manchester - UK\n",
            "GRADUATION_YEAR         ->>   2007\n",
            "SKILLS                  ->>   problem solving (Less than 1 year), project lifecycle (Less than 1 year), project \n",
            "manager (Less than 1 year), technical assistance. (Less than 1 year)\n"
          ]
        }
      ],
      "source": [
        "doc = nlp(pdf_to_text(\"/content/drive/MyDrive/Colab_Notebooks/NLP/NLP_Projects/Resume_Summarizer/testing_data/Smith Resume.pdf\"))\n",
        "\n",
        "for ent in doc.ents:\n",
        "  print(ent.label_.ljust(20, \" \"), \"   ->>  \", ent.text, end=\"\\n\")"
      ]
    },
    {
      "cell_type": "code",
      "execution_count": 21,
      "metadata": {
        "colab": {
          "base_uri": "https://localhost:8080/"
        },
        "id": "l6ybyNZpB0Y_",
        "outputId": "957abe35-db46-4a29-e2c2-64c0108a81f6"
      },
      "outputs": [
        {
          "output_type": "stream",
          "name": "stdout",
          "text": [
            "NAME          ->>   Alice Clark\n",
            "DEGREE        ->>   AI / Machine Learning\n",
            "LOCATION      ->>   Delhi, India\n",
            "DESIGNATION    ->>   Software Engineer\n",
            "COMPANIES_WORKED_AT    ->>   Microsoft\n",
            "COMPANIES_WORKED_AT    ->>   Microsoft\n",
            "COMPANIES_WORKED_AT    ->>   Microsoft\n",
            "COMPANIES_WORKED_AT    ->>   Microsoft\n",
            "COMPANIES_WORKED_AT    ->>   Microsoft\n",
            "COMPANIES_WORKED_AT    ->>   Microsoft\n",
            "COMPANIES_WORKED_AT    ->>   Microsoft\n",
            "COLLEGE_NAME    ->>   Indian Institute of Technology – Mumbai\n",
            "GRADUATION_YEAR    ->>   2001\n",
            "SKILLS        ->>   Machine Learning, Natural Language Processing, and Big Data Handling\n"
          ]
        }
      ],
      "source": [
        "doc = nlp(pdf_to_text(\"/content/drive/MyDrive/Colab_Notebooks/NLP/NLP_Projects/Resume_Summarizer/testing_data/Alice Clark CV.pdf\"))\n",
        "\n",
        "for ent in doc.ents:\n",
        "  print(ent.label_.ljust(10, \" \"), \"   ->>  \", ent.text, end=\"\\n\")"
      ]
    },
    {
      "cell_type": "code",
      "execution_count": 22,
      "metadata": {
        "colab": {
          "base_uri": "https://localhost:8080/"
        },
        "id": "E6F8CtoxCetn",
        "outputId": "e40f1d03-84b8-4218-a977-485c3f3f2147"
      },
      "outputs": [
        {
          "output_type": "stream",
          "name": "stdout",
          "text": [
            "NAME          ->>   Michael Smith\n",
            "SKILLS        ->>   Big Data/ Azure\n",
            "LOCATION      ->>   Manchester\n",
            "EMAIL_ADDRESS    ->>   indeed.com/r/falicent/140749dace5dc26f\n",
            "COMPANIES_WORKED_AT    ->>   inthe\n",
            "COMPANIES_WORKED_AT    ->>   Microsoft\n",
            "COMPANIES_WORKED_AT    ->>   Microsoft\n",
            "COMPANIES_WORKED_AT    ->>   Microsoft\n",
            "COMPANIES_WORKED_AT    ->>   Microsoft\n",
            "COMPANIES_WORKED_AT    ->>   Microsoft\n",
            "COMPANIES_WORKED_AT    ->>   Microsoft\n",
            "COMPANIES_WORKED_AT    ->>   Microsoft\n",
            "COMPANIES_WORKED_AT    ->>   Microsoft\n",
            "COMPANIES_WORKED_AT    ->>   Microsoft\n",
            "COMPANIES_WORKED_AT    ->>   Microsoft\n",
            "COMPANIES_WORKED_AT    ->>   Microsoft\n",
            "COMPANIES_WORKED_AT    ->>   Microsoft\n",
            "COMPANIES_WORKED_AT    ->>   Microsoft\n",
            "UNIVERSITY    ->>   The University of Manchester - UK\n",
            "GRADUATION_YEAR    ->>   2007\n",
            "SKILLS        ->>   problem solving (Less than 1 year), project lifecycle (Less than 1 year), project \n",
            "manager (Less than 1 year), technical assistance. (Less than 1 year)\n"
          ]
        }
      ],
      "source": [
        "doc = nlp(pdf_to_text(\"/content/drive/MyDrive/Colab_Notebooks/NLP/NLP_Projects/Resume_Summarizer/testing_data/Smith Resume.pdf\"))\n",
        "\n",
        "for ent in doc.ents:\n",
        "  print(ent.label_.ljust(10, \" \"), \"   ->>  \", ent.text, end=\"\\n\")"
      ]
    },
    {
      "cell_type": "code",
      "execution_count": 22,
      "metadata": {
        "id": "_8q3gXD2UM7s"
      },
      "outputs": [],
      "source": []
    }
  ],
  "metadata": {
    "accelerator": "GPU",
    "colab": {
      "provenance": []
    },
    "kernelspec": {
      "display_name": "Python 3",
      "name": "python3"
    },
    "language_info": {
      "name": "python"
    }
  },
  "nbformat": 4,
  "nbformat_minor": 0
}